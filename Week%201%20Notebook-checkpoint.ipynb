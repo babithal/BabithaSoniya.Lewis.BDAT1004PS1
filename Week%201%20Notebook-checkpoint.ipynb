{
 "cells": [
  {
   "cell_type": "markdown",
   "metadata": {
    "slideshow": {
     "slide_type": "slide"
    }
   },
   "source": [
    "# 1 What data type is each of the following?\n",
    "\n"
   ]
  },
  {
   "cell_type": "code",
   "execution_count": null,
   "metadata": {},
   "outputs": [],
   "source": [
    "5                   -Int\n",
    "5.0                 -float\n",
    "5 > 1               -boolean\n",
    "'5'                 -char\n",
    "5 * 2               -int\n",
    "'5' * 2             -enum  \n",
    "'5' + '2'           -char\n",
    "5 / 2               -float\n",
    "5 % 2               -int\n",
    "{5, 2, 1}           -array\n",
    "5 == 3              -boolean\n",
    "Pi (the number)     -float"
   ]
  },
  {
   "cell_type": "markdown",
   "metadata": {},
   "source": [
    "# 2 Write (and evaluate) C# expressions that answer these questions:\n",
    "a. How many letters are there in 'Supercalifragilisticexpialidocious'?\n",
    "b. Does 'Supercalifragilisticexpialidocious' contain 'ice' as a substring? \n",
    "c. Which of the following words is the longest:\n",
    "   Supercalifragilisticexpialidocious, Honorificabilitudinitatibus, or\n",
    "   Bababadalgharaghtakamminarronnkonn?\n",
    "d. Which composer comes first in the dictionary: 'Berlioz', 'Borodin', 'Brian',\n",
    "   'Bartok', 'Bellini', 'Buxtehude', 'Bernstein'. Which one comes last?\n",
    "  "
   ]
  },
  {
   "cell_type": "code",
   "execution_count": null,
   "metadata": {},
   "outputs": [],
   "source": [
    "2a.            string Mystring = \"Supercalifragilisticexpialidocious\";\n",
    "            Console.WriteLine(\"The letters in the given word are: \"  + Mystring.Length);\n",
    "            "
   ]
  },
  {
   "cell_type": "code",
   "execution_count": null,
   "metadata": {},
   "outputs": [],
   "source": [
    "2b.   public static void Main(string[] args)\n",
    "        {\n",
    "            string  s1 = \"'Supercalifragilisticexpialidocious\";\n",
    "            string s2 = \"ice\";\n",
    "            if ((s1.Contains(s2)))  // condition statement within if loop\n",
    "            {\n",
    "                Console.WriteLine(\"ice present\"); // it will execute this statement if ice is present in given word\n",
    "            }\n",
    "            else\n",
    "            {\n",
    "                Console.WriteLine(\"ice is not present\"); // else this statement will be executed\n",
    "            }\n",
    "            Console.ReadLine();\n",
    "                \n",
    "        }"
   ]
  },
  {
   "cell_type": "markdown",
   "metadata": {},
   "source": [
    "# 3 Implement function triangleArea(a,b,c) that takes as input the lengths of the \n",
    "sides of a triangle and returns the area of the triangle. By Heron's formula, the area\n",
    "of a triangle with side lengths a, b, and c is\n",
    "s(s - a)(s -b)(s -c)\n",
    ", where\n",
    "s = (a+b+c)/2.\n",
    ">>> triangleArea(2,2,2)\n",
    "1.7320508075688772\n"
   ]
  },
  {
   "cell_type": "code",
   "execution_count": null,
   "metadata": {},
   "outputs": [],
   "source": [
    "public static void Main(string[] args)\n",
    "        {\n",
    "            double s1, s2, s3;\n",
    "            double area;\n",
    "            double sum;\n",
    "            Console.WriteLine(\"  s1 value\");\n",
    "            s1 = double.Parse(Console.ReadLine()); //reading value from user for \n",
    "            Console.WriteLine(\" s2 value\");\n",
    "            s2 = double.Parse(Console.ReadLine());   // reading value s2       \n",
    "            Console.WriteLine(\"  s1 value\");\n",
    "            s3 = double.Parse(Console.ReadLine());  // reading value s3\n",
    "            sum = (s1 + s2 + s3) / 2;  \n",
    "            area = Math.Sqrt(sum * (sum - s1) * (sum - s2) * (sum - s3));\n",
    "            Console.WriteLine(\"area of triangle is \" + area);\n",
    "            Console.ReadLine();\n",
    "\n",
    "        }"
   ]
  },
  {
   "cell_type": "markdown",
   "metadata": {},
   "source": [
    "# 4 Write a program in C# Sharp to separate odd and even integers in separate arrays.\n",
    "Go to the editor\n",
    "Test Data :\n",
    "Input the number of elements to be stored in the array :5\n",
    "Input 5 elements in the array :\n",
    "element - 0 : 25\n",
    "element - 1 : 47\n",
    "element - 2 : 42\n",
    "element - 3 : 56\n",
    "element - 4 : 32\n"
   ]
  },
  {
   "cell_type": "code",
   "execution_count": null,
   "metadata": {},
   "outputs": [],
   "source": [
    "\n",
    "        public static void Main(string[] args)\n",
    "        {\n",
    "            int[] list1 = new int[] {\n",
    "            25,\n",
    "            47,\n",
    "            56,\n",
    "            42,\n",
    "            32\n",
    "         };\n",
    "            int[] list2 = new int[5];\n",
    "            int[] list3 = new int[5];      // array size is 5 as we have 5 values\n",
    "            int i, j = 0, k = 0;\n",
    "            for (i = 0; i < 5; i++)\n",
    "            {\n",
    "                if (list1[i] % 2 == 0)\n",
    "                {\n",
    "                    list2[j] = list1[i]; // this condition is for even \n",
    "                    j++;\n",
    "                }\n",
    "                else\n",
    "                {\n",
    "                    list3[k] = list1[i];  // this is for odd number\n",
    "                    k++;\n",
    "                }\n",
    "            }\n",
    "            Console.WriteLine(\"Even numbers are given below\"); // if the value is even this will be printed\n",
    "            for (i = 0; i < j; i++)\n",
    "            {\n",
    "                Console.WriteLine(list2[i]);\n",
    "            }\n",
    "            Console.WriteLine(\"Odd numbers are given below\");// else if the value is odd this will be printed\n",
    "            for (i = 0; i < k; i++)\n",
    "            {\n",
    "                Console.WriteLine(list3[i]);\n",
    "            }\n",
    "        }\n",
    "    "
   ]
  },
  {
   "cell_type": "markdown",
   "metadata": {
    "slideshow": {
     "slide_type": "fragment"
    }
   },
   "source": [
    "# 9 Each of the following will cause an exception (an error). Identify what type of\n",
    "exception each will cause.\n",
    "1) Trying to add incompatible variables, as in\n",
    "adding 6 + ‘a’\n",
    "\n",
    "2)Referring to the 12th item of a list that has only 10\n",
    "items\n",
    "\n",
    "3)Using a value that is out of range for a function’s\n",
    "input, such as calling math.sqrt(-1.0)\n",
    "\n",
    "4)Using an undeclared variable, such as print(x)\n",
    "when x has not been defined\n",
    "\n",
    "5)Trying to open a file that does not exist, such as\n",
    "mistyping the file name or looking in the wrong\n",
    "directory. "
   ]
  },
  {
   "cell_type": "code",
   "execution_count": 31,
   "metadata": {
    "slideshow": {
     "slide_type": "fragment"
    }
   },
   "outputs": [
    {
     "ename": "TypeError",
     "evalue": "unsupported operand type(s) for +: 'int' and 'str'",
     "output_type": "error",
     "traceback": [
      "\u001b[1;31m---------------------------------------------------------------------------\u001b[0m",
      "\u001b[1;31mTypeError\u001b[0m                                 Traceback (most recent call last)",
      "\u001b[1;32m<ipython-input-31-c14226cc1849>\u001b[0m in \u001b[0;36m<module>\u001b[1;34m\u001b[0m\n\u001b[1;32m----> 1\u001b[1;33m \u001b[1;36m6\u001b[0m\u001b[1;33m+\u001b[0m \u001b[1;34m'a'\u001b[0m\u001b[1;33m\u001b[0m\u001b[1;33m\u001b[0m\u001b[0m\n\u001b[0m",
      "\u001b[1;31mTypeError\u001b[0m: unsupported operand type(s) for +: 'int' and 'str'"
     ]
    }
   ],
   "source": [
    "6+ 'a'\n"
   ]
  },
  {
   "cell_type": "code",
   "execution_count": 33,
   "metadata": {},
   "outputs": [
    {
     "ename": "IndexError",
     "evalue": "list index out of range",
     "output_type": "error",
     "traceback": [
      "\u001b[1;31m---------------------------------------------------------------------------\u001b[0m",
      "\u001b[1;31mIndexError\u001b[0m                                Traceback (most recent call last)",
      "\u001b[1;32m<ipython-input-33-7f08ec05e737>\u001b[0m in \u001b[0;36m<module>\u001b[1;34m\u001b[0m\n\u001b[0;32m      1\u001b[0m \u001b[0mlst\u001b[0m \u001b[1;33m=\u001b[0m\u001b[1;33m[\u001b[0m\u001b[1;34m'ant'\u001b[0m\u001b[1;33m,\u001b[0m \u001b[1;34m'cat'\u001b[0m\u001b[1;33m]\u001b[0m\u001b[1;33m\u001b[0m\u001b[1;33m\u001b[0m\u001b[0m\n\u001b[1;32m----> 2\u001b[1;33m \u001b[0mprint\u001b[0m\u001b[1;33m(\u001b[0m\u001b[0mlst\u001b[0m\u001b[1;33m[\u001b[0m\u001b[1;36m5\u001b[0m\u001b[1;33m]\u001b[0m\u001b[1;33m)\u001b[0m\u001b[1;33m\u001b[0m\u001b[1;33m\u001b[0m\u001b[0m\n\u001b[0m",
      "\u001b[1;31mIndexError\u001b[0m: list index out of range"
     ]
    }
   ],
   "source": [
    "lst =['ant', 'cat']\n",
    "print(lst[5])"
   ]
  },
  {
   "cell_type": "code",
   "execution_count": 36,
   "metadata": {},
   "outputs": [
    {
     "ename": "ValueError",
     "evalue": "math domain error",
     "output_type": "error",
     "traceback": [
      "\u001b[1;31m---------------------------------------------------------------------------\u001b[0m",
      "\u001b[1;31mValueError\u001b[0m                                Traceback (most recent call last)",
      "\u001b[1;32m<ipython-input-36-0a1ff161b395>\u001b[0m in \u001b[0;36m<module>\u001b[1;34m\u001b[0m\n\u001b[0;32m      1\u001b[0m \u001b[1;32mimport\u001b[0m \u001b[0mmath\u001b[0m\u001b[1;33m\u001b[0m\u001b[1;33m\u001b[0m\u001b[0m\n\u001b[1;32m----> 2\u001b[1;33m \u001b[0mmath\u001b[0m\u001b[1;33m.\u001b[0m\u001b[0msqrt\u001b[0m\u001b[1;33m(\u001b[0m\u001b[1;33m-\u001b[0m\u001b[1;36m1.0\u001b[0m\u001b[1;33m)\u001b[0m\u001b[1;33m;\u001b[0m\u001b[1;33m\u001b[0m\u001b[1;33m\u001b[0m\u001b[0m\n\u001b[0m",
      "\u001b[1;31mValueError\u001b[0m: math domain error"
     ]
    }
   ],
   "source": [
    "import math\n",
    "math.sqrt(-1.0)"
   ]
  },
  {
   "cell_type": "code",
   "execution_count": 37,
   "metadata": {},
   "outputs": [
    {
     "ename": "NameError",
     "evalue": "name 'x' is not defined",
     "output_type": "error",
     "traceback": [
      "\u001b[1;31m---------------------------------------------------------------------------\u001b[0m",
      "\u001b[1;31mNameError\u001b[0m                                 Traceback (most recent call last)",
      "\u001b[1;32m<ipython-input-37-fc17d851ef81>\u001b[0m in \u001b[0;36m<module>\u001b[1;34m\u001b[0m\n\u001b[1;32m----> 1\u001b[1;33m \u001b[0mprint\u001b[0m\u001b[1;33m(\u001b[0m\u001b[0mx\u001b[0m\u001b[1;33m)\u001b[0m\u001b[1;33m\u001b[0m\u001b[1;33m\u001b[0m\u001b[0m\n\u001b[0m",
      "\u001b[1;31mNameError\u001b[0m: name 'x' is not defined"
     ]
    }
   ],
   "source": [
    "print(x)"
   ]
  },
  {
   "cell_type": "code",
   "execution_count": 38,
   "metadata": {},
   "outputs": [
    {
     "ename": "FileNotFoundError",
     "evalue": "[Errno 2] No such file or directory: 'sample.txt'",
     "output_type": "error",
     "traceback": [
      "\u001b[1;31m---------------------------------------------------------------------------\u001b[0m",
      "\u001b[1;31mFileNotFoundError\u001b[0m                         Traceback (most recent call last)",
      "\u001b[1;32m<ipython-input-38-fcae3086aca4>\u001b[0m in \u001b[0;36m<module>\u001b[1;34m\u001b[0m\n\u001b[1;32m----> 1\u001b[1;33m \u001b[0minfile\u001b[0m \u001b[1;33m=\u001b[0m\u001b[0mopen\u001b[0m\u001b[1;33m(\u001b[0m\u001b[1;34m'sample.txt'\u001b[0m\u001b[1;33m)\u001b[0m\u001b[1;33m\u001b[0m\u001b[1;33m\u001b[0m\u001b[0m\n\u001b[0m",
      "\u001b[1;31mFileNotFoundError\u001b[0m: [Errno 2] No such file or directory: 'sample.txt'"
     ]
    }
   ],
   "source": [
    "\n",
    "infile =open('sample.txt')"
   ]
  }
 ],
 "metadata": {
  "celltoolbar": "Slideshow",
  "kernelspec": {
   "display_name": "Python 3",
   "language": "python",
   "name": "python3"
  },
  "language_info": {
   "codemirror_mode": {
    "name": "ipython",
    "version": 3
   },
   "file_extension": ".py",
   "mimetype": "text/x-python",
   "name": "python",
   "nbconvert_exporter": "python",
   "pygments_lexer": "ipython3",
   "version": "3.8.8"
  }
 },
 "nbformat": 4,
 "nbformat_minor": 4
}
